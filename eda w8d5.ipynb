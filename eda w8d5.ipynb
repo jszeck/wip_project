{
 "cells": [
  {
   "cell_type": "code",
   "execution_count": 1,
   "metadata": {
    "collapsed": false
   },
   "outputs": [
    {
     "name": "stderr",
     "output_type": "stream",
     "text": [
      "A newer version of GraphLab Create (v1.8.5) is available! Your current version is v1.8.4.\n",
      "\n",
      "You can use pip to upgrade the graphlab-create package. For more information see https://dato.com/products/create/upgrade.\n"
     ]
    }
   ],
   "source": [
    "import pandas as pd\n",
    "import numpy as np\n",
    "import graphlab as gl\n",
    "# pip install --upgrade \n",
    "# --no-cache-dir https://get.dato.com/GraphLab-Create/1.8.5/justin@thezecks.com\n",
    "# /9378-F674-129B-F6B9-F178-B959-E07A-3D81/GraphLab-Create-License.tar.gz\n"
   ]
  },
  {
   "cell_type": "markdown",
   "metadata": {
    "collapsed": true
   },
   "source": [
    "''' File 5: all of the above,\n",
    "tldr: the above table is all previous tables joined on year and quarter, household_id, and person_id\n",
    "\n",
    "The incident-level extract file is not the same as the incident record-type file. The incident-level extract file is a file created by prepending\n",
    "household and person variables to incident records using the YEARQ (YEAR AND QUARTER OF INTERVIEW), IDHH (NCVS ID FOR\n",
    "HOUSEHOLDS), and IDPER (NCVS ID FOR PERSONS) variables as match keys. For data-year formats, this file has been \"bounded\"\n",
    "to contain incidents occurring within the specific calendar year, regardless of when the interview was conducted. Under the collection-year\n",
    "format, the incident-level extract file is not \"bounded\" based on when the incidents occurred; rather, it contains incidents reported in 2012,\n",
    "regardless of when they occurred\n",
    "'''"
   ]
  },
  {
   "cell_type": "code",
   "execution_count": null,
   "metadata": {
    "collapsed": false
   },
   "outputs": [],
   "source": []
  },
  {
   "cell_type": "code",
   "execution_count": 2,
   "metadata": {
    "collapsed": false
   },
   "outputs": [],
   "source": [
    "df_data = pd.read_table('data/5-Data.tsv')\n"
   ]
  },
  {
   "cell_type": "code",
   "execution_count": 11,
   "metadata": {
    "collapsed": false
   },
   "outputs": [],
   "source": [
    "# dfall.info()\n",
    "# 9215 rows, 1145 collumns\n",
    "\n",
    "#df_data"
   ]
  },
  {
   "cell_type": "code",
   "execution_count": null,
   "metadata": {
    "collapsed": false
   },
   "outputs": [],
   "source": []
  },
  {
   "cell_type": "code",
   "execution_count": 10,
   "metadata": {
    "collapsed": false
   },
   "outputs": [],
   "source": [
    "def get_summary(col, targ):\n",
    "    \n",
    "    cnts = col.value_counts(normalize=True)\n",
    "    num_unique = len(cnts)\n",
    "    top_freq = cnts.values[0]\n",
    "    top_item = cnts.index[0]\n",
    "    fraction_missing = col.isnull().mean()\n",
    "    first_few = ', '.join(list(col.unique()\n",
    "                               .astype(str)[:max(num_unique, 3)]))\n",
    "    \n",
    "    #Get target frequency spread\n",
    "    #print col, targ\n",
    "    temp = pd.concat([col, targ],axis=1)\n",
    "    grouped = temp.groupby(col.name)['target'].mean()\n",
    "    freq_range = grouped.max() - grouped.min()\n",
    "    \n",
    "    return pd.Series(\n",
    "        {'NumUnique' : num_unique,\n",
    "         'Top Freq' : top_freq,\n",
    "         'Top Item' : top_item,\n",
    "         'Fraction Missing' : fraction_missing,\n",
    "         'Examples' : first_few,\n",
    "         'Freq Range' : freq_range\n",
    "        })\n",
    "\n",
    "df_cat = df_data\n",
    "# Summarise each categorical variable\n",
    "#df_cat.apply(lambda col: get_summary(col, df_data.columns)).T   "
   ]
  },
  {
   "cell_type": "code",
   "execution_count": 36,
   "metadata": {
    "collapsed": false
   },
   "outputs": [],
   "source": [
    "\n",
    "\n",
    "#df_data.V4528.value_counts(dropna=False)"
   ]
  },
  {
   "cell_type": "code",
   "execution_count": 31,
   "metadata": {
    "collapsed": true
   },
   "outputs": [],
   "source": [
    "def makeNmodels(predict_these):\n",
    "    \n",
    "    scores = []\n",
    "    \n",
    "    for curCol in predict_these:\n",
    "        score = doOneModel(curCol)\n",
    "        \n",
    "        col_with_score = (curCol, score)\n",
    "        \n",
    "        scores.apend(col_with_score)\n",
    "    \n",
    "    return scores\n",
    "        \n",
    "    "
   ]
  },
  {
   "cell_type": "code",
   "execution_count": 5,
   "metadata": {
    "collapsed": true
   },
   "outputs": [],
   "source": [
    "def delFeatures(features):\n",
    "    for cur_feat in features:\n",
    "        del df_data[cur_feat]"
   ]
  },
  {
   "cell_type": "code",
   "execution_count": 8,
   "metadata": {
    "collapsed": false
   },
   "outputs": [],
   "source": [
    "low_var_features = ['V2001', 'V2009', 'V2027', 'V2028', 'V2029', 'V2030', 'V2031', 'V2109', \n",
    "                    'V2110', 'V2112', 'V2114', 'V2115', 'V2123', 'V2131', 'V2142', 'V3001', \n",
    "                    'V3027', 'V3051', 'V3057', 'V3060', 'V3069', 'V3082', 'V4001', 'V4319', \n",
    "                    'V4320']\n",
    "                        #'V4528\n",
    "overpowered_features = ['V4529', 'V4112', 'V4060']\n",
    "\n",
    "'''\n",
    "V4528    TYPE OF CRIME CODE (OLD, NCS)\n",
    "V4529 - TYPE OF CRIME CODE (NEW, NCVS)\n",
    "V4112 -    INJURIES: RAPE INJURIES  \n",
    "V4060 - OFFENDER HIT OR ATTACK (ALLOCATED)\n",
    "'''\n",
    "delFeatures(low_var_features)\n",
    "delFeatures(overpowered_features)\n"
   ]
  },
  {
   "cell_type": "code",
   "execution_count": 57,
   "metadata": {
    "collapsed": false
   },
   "outputs": [],
   "source": [
    "def doOneModel(predict, df_to_predict_on):\n",
    "    \n",
    "    sf_data = gl.SFrame(df_to_predict_on)\n",
    "    \n",
    "    # graphlab.boosted_trees_classifier.create(dataset, target, features=None, \n",
    "    # max_iterations=10, validation_set='auto', class_weights=None, max_depth=6, \n",
    "    # step_size=0.3, min_loss_reduction=0.0, min_child_weight=0.1, row_subsample=1.0, \n",
    "    # column_subsample=1.0, verbose=True, random_seed=None, metric='auto', **kwargs)\n",
    "    \n",
    "    model = gl.boosted_trees_classifier.create(sf_data, predict, features=None, \n",
    "            max_iterations=10, validation_set='auto', class_weights=None, max_depth=10, \n",
    "            step_size=0.3, min_loss_reduction=0.0, min_child_weight=0.1, row_subsample=1.0, \n",
    "            column_subsample=1.0, verbose=True, random_seed=42, metric='auto')\n",
    "    \n",
    "    predictions = model.predict(sf_data)\n",
    "    results = model.evaluate(sf_data)\n",
    "    print \" -> Finished computing model.\"\n",
    "    print \"\\n<------------------------------------------------------------->\"\n",
    "    print \"Results for \" + str(predict) + \" :\\n\"\n",
    "    print \"<------------------------------------------------------------->\"\n",
    "    return model\n",
    "    \n",
    "    "
   ]
  },
  {
   "cell_type": "code",
   "execution_count": 7,
   "metadata": {
    "collapsed": true
   },
   "outputs": [],
   "source": [
    "def printResults(model):\n",
    "    \n",
    "    print model.get_feature_importance()\n",
    "    \n",
    "    print model.summary()"
   ]
  },
  {
   "cell_type": "code",
   "execution_count": 10,
   "metadata": {
    "collapsed": false
   },
   "outputs": [
    {
     "name": "stderr",
     "output_type": "stream",
     "text": [
      "2016-04-09 19:03:36,253 [INFO] graphlab.cython.cy_server, 176: GraphLab Create v1.8.4 started. Logging: /tmp/graphlab_server_1460253814.log\n"
     ]
    },
    {
     "name": "stdout",
     "output_type": "stream",
     "text": [
      "This non-commercial license of GraphLab Create is assigned to justin@thezecks.com and will expire on March 16, 2017. For commercial licensing options, visit https://dato.com/buy/.\n",
      "PROGRESS: Creating a validation set from 5 percent of training data. This may take a while.\n",
      "          You can set ``validation_set=None`` to disable validation tracking.\n",
      "\n"
     ]
    },
    {
     "data": {
      "text/html": [
       "<pre>WARNING: The number of feature dimensions in this problem is very large in comparison with the number of examples. Unless an appropriate regularization value is set, this model may not provide accurate predictions for a validation/test set.</pre>"
      ],
      "text/plain": [
       "WARNING: The number of feature dimensions in this problem is very large in comparison with the number of examples. Unless an appropriate regularization value is set, this model may not provide accurate predictions for a validation/test set."
      ]
     },
     "metadata": {},
     "output_type": "display_data"
    },
    {
     "data": {
      "text/html": [
       "<pre>Boosted trees classifier:</pre>"
      ],
      "text/plain": [
       "Boosted trees classifier:"
      ]
     },
     "metadata": {},
     "output_type": "display_data"
    },
    {
     "data": {
      "text/html": [
       "<pre>--------------------------------------------------------</pre>"
      ],
      "text/plain": [
       "--------------------------------------------------------"
      ]
     },
     "metadata": {},
     "output_type": "display_data"
    },
    {
     "data": {
      "text/html": [
       "<pre>Number of examples          : 8758</pre>"
      ],
      "text/plain": [
       "Number of examples          : 8758"
      ]
     },
     "metadata": {},
     "output_type": "display_data"
    },
    {
     "data": {
      "text/html": [
       "<pre>Number of classes           : 40</pre>"
      ],
      "text/plain": [
       "Number of classes           : 40"
      ]
     },
     "metadata": {},
     "output_type": "display_data"
    },
    {
     "data": {
      "text/html": [
       "<pre>Number of feature columns   : 1116</pre>"
      ],
      "text/plain": [
       "Number of feature columns   : 1116"
      ]
     },
     "metadata": {},
     "output_type": "display_data"
    },
    {
     "data": {
      "text/html": [
       "<pre>Number of unpacked features : 1116</pre>"
      ],
      "text/plain": [
       "Number of unpacked features : 1116"
      ]
     },
     "metadata": {},
     "output_type": "display_data"
    },
    {
     "data": {
      "text/html": [
       "<pre>+-----------+--------------+-------------------+-------------------+---------------------+---------------------+</pre>"
      ],
      "text/plain": [
       "+-----------+--------------+-------------------+-------------------+---------------------+---------------------+"
      ]
     },
     "metadata": {},
     "output_type": "display_data"
    },
    {
     "data": {
      "text/html": [
       "<pre>| Iteration | Elapsed Time | Training-accuracy | Training-log_loss | Validation-accuracy | Validation-log_loss |</pre>"
      ],
      "text/plain": [
       "| Iteration | Elapsed Time | Training-accuracy | Training-log_loss | Validation-accuracy | Validation-log_loss |"
      ]
     },
     "metadata": {},
     "output_type": "display_data"
    },
    {
     "data": {
      "text/html": [
       "<pre>+-----------+--------------+-------------------+-------------------+---------------------+---------------------+</pre>"
      ],
      "text/plain": [
       "+-----------+--------------+-------------------+-------------------+---------------------+---------------------+"
      ]
     },
     "metadata": {},
     "output_type": "display_data"
    },
    {
     "data": {
      "text/html": [
       "<pre>| 1         | 8.832944     | 0.992692          | 0.248529          | 0.971554            | 0.335468            |</pre>"
      ],
      "text/plain": [
       "| 1         | 8.832944     | 0.992692          | 0.248529          | 0.971554            | 0.335468            |"
      ]
     },
     "metadata": {},
     "output_type": "display_data"
    },
    {
     "data": {
      "text/html": [
       "<pre>| 2         | 16.704688    | 0.994063          | 0.179904          | 0.971554            | 0.280391            |</pre>"
      ],
      "text/plain": [
       "| 2         | 16.704688    | 0.994063          | 0.179904          | 0.971554            | 0.280391            |"
      ]
     },
     "metadata": {},
     "output_type": "display_data"
    },
    {
     "data": {
      "text/html": [
       "<pre>| 3         | 24.739321    | 0.994633          | 0.134045          | 0.971554            | 0.240839            |</pre>"
      ],
      "text/plain": [
       "| 3         | 24.739321    | 0.994633          | 0.134045          | 0.971554            | 0.240839            |"
      ]
     },
     "metadata": {},
     "output_type": "display_data"
    },
    {
     "data": {
      "text/html": [
       "<pre>| 4         | 32.527934    | 0.995661          | 0.101073          | 0.973742            | 0.212524            |</pre>"
      ],
      "text/plain": [
       "| 4         | 32.527934    | 0.995661          | 0.101073          | 0.973742            | 0.212524            |"
      ]
     },
     "metadata": {},
     "output_type": "display_data"
    },
    {
     "data": {
      "text/html": [
       "<pre>| 5         | 40.452416    | 0.995775          | 0.077030          | 0.978118            | 0.188446            |</pre>"
      ],
      "text/plain": [
       "| 5         | 40.452416    | 0.995775          | 0.077030          | 0.978118            | 0.188446            |"
      ]
     },
     "metadata": {},
     "output_type": "display_data"
    },
    {
     "data": {
      "text/html": [
       "<pre>| 6         | 48.338148    | 0.996575          | 0.059251          | 0.978118            | 0.170463            |</pre>"
      ],
      "text/plain": [
       "| 6         | 48.338148    | 0.996575          | 0.059251          | 0.978118            | 0.170463            |"
      ]
     },
     "metadata": {},
     "output_type": "display_data"
    },
    {
     "data": {
      "text/html": [
       "<pre>| 7         | 56.351621    | 0.997374          | 0.045903          | 0.978118            | 0.155508            |</pre>"
      ],
      "text/plain": [
       "| 7         | 56.351621    | 0.997374          | 0.045903          | 0.978118            | 0.155508            |"
      ]
     },
     "metadata": {},
     "output_type": "display_data"
    },
    {
     "data": {
      "text/html": [
       "<pre>| 8         | 64.256891    | 0.997831          | 0.035804          | 0.978118            | 0.143902            |</pre>"
      ],
      "text/plain": [
       "| 8         | 64.256891    | 0.997831          | 0.035804          | 0.978118            | 0.143902            |"
      ]
     },
     "metadata": {},
     "output_type": "display_data"
    },
    {
     "data": {
      "text/html": [
       "<pre>| 9         | 72.445037    | 0.998744          | 0.028243          | 0.978118            | 0.134064            |</pre>"
      ],
      "text/plain": [
       "| 9         | 72.445037    | 0.998744          | 0.028243          | 0.978118            | 0.134064            |"
      ]
     },
     "metadata": {},
     "output_type": "display_data"
    },
    {
     "data": {
      "text/html": [
       "<pre>| 10        | 80.169483    | 0.999201          | 0.022456          | 0.978118            | 0.126044            |</pre>"
      ],
      "text/plain": [
       "| 10        | 80.169483    | 0.999201          | 0.022456          | 0.978118            | 0.126044            |"
      ]
     },
     "metadata": {},
     "output_type": "display_data"
    },
    {
     "data": {
      "text/html": [
       "<pre>+-----------+--------------+-------------------+-------------------+---------------------+---------------------+</pre>"
      ],
      "text/plain": [
       "+-----------+--------------+-------------------+-------------------+---------------------+---------------------+"
      ]
     },
     "metadata": {},
     "output_type": "display_data"
    },
    {
     "name": "stdout",
     "output_type": "stream",
     "text": [
      " -> Finished computing model.\n",
      "\n",
      "<------------------------------------------------------------->\n",
      "Results for V4528 :\n",
      "\n",
      "<------------------------------------------------------------->\n",
      "+---------+-------+-------+\n",
      "|   name  | index | count |\n",
      "+---------+-------+-------+\n",
      "|  V4364  |  None |  337  |\n",
      "|  V4321  |  None |  259  |\n",
      "|  V4024  |  None |  218  |\n",
      "| V4140B1 |  None |  148  |\n",
      "|  V4111  |  None |   97  |\n",
      "|  V4026  |  None |   89  |\n",
      "|  V4289  |  None |   83  |\n",
      "|  V4358  |  None |   72  |\n",
      "|  V4049  |  None |   63  |\n",
      "|  V4028  |  None |   57  |\n",
      "+---------+-------+-------+\n",
      "[33306 rows x 3 columns]\n",
      "Note: Only the head of the SFrame is printed.\n",
      "You can use print_rows(num_rows=m, num_columns=n) to print more rows and columns.\n",
      "Class                         : BoostedTreesClassifier\n",
      "\n",
      "Schema\n",
      "------\n",
      "Number of examples            : 8758\n",
      "Number of feature columns     : 1116\n",
      "Number of unpacked features   : 1116\n",
      "Number of classes             : 40\n",
      "\n",
      "Settings\n",
      "--------\n",
      "Number of trees               : 400\n",
      "Max tree depth                : 10\n",
      "Training time (sec)           : 80.1699\n",
      "Training accuracy             : 0.9992\n",
      "Validation accuracy           : 0.9781\n",
      "Training log_loss             : 0.0225\n",
      "Validation log_loss           : 0.126\n",
      "\n",
      "None\n"
     ]
    }
   ],
   "source": [
    "predict = 'V4528'\n",
    "# 4528, type of crime\n",
    "\n",
    "m_boostedT = doOneModel(predict, df_data)\n",
    "printResults(m_boostedT)"
   ]
  },
  {
   "cell_type": "code",
   "execution_count": null,
   "metadata": {
    "collapsed": true
   },
   "outputs": [],
   "source": [
    "'''\n",
    "-------------------------------------------------------------\n",
    "+---------+-------+-------+\n",
    "|   name  | index | count |\n",
    "+---------+-------+-------+\n",
    "|  V4364  |  None |  317  |V4364 - VALUE OF PROPERTY TAKEN\n",
    "|  V4321  |  None |  245  |VALUE OF CASH TAKEN\n",
    "|  V4024  |  None |  229  |WHERE DID INCIDENT HAPPEN\n",
    "Value\n",
    "Label\n",
    "In respondent's home or lodging\n",
    "01 In own dwelling, own attached garage, or enclosed porch (Include illegal entry or attempted illegal entry of same)\n",
    "02 In detached building on own property, such as a detached garage,..\n",
    "...\n",
    "\n",
    "Commercial places\n",
    "12 Inside restaurant, bar, nightclub\n",
    "13 Inside other commercial building such as store, bank, gas station\n",
    "...\n",
    "\n",
    "Parking lots/garages\n",
    "15 Commercial parking lot/garage\n",
    "16 Noncommercial parking lot/garage\n",
    "17 Apartment/townhouse parking lot/garage School\n",
    "18 Inside school building\n",
    "19 On school property (school parking area, play area, school bus, etc.)\n",
    "...\n",
    "23 Other\n",
    "98 Residue\n",
    "99 (M) Out of universe\n",
    "\n",
    "| V4140B1 |  None |  142  |VICTIM OF CRIME LEAD TO PROBLEMS JOB, SCHOOLWORK, BOSS, COWORKERS, OR PEERS\n",
    "|  V4111  |  None |  101  |INJURIES: NONE\n",
    "|  V4026  |  None |   99  |DID OFFENDER GET INSIDE\n",
    "|  V4049  |  None |   82  |DID OFFENDER HAVE A WEAPON\n",
    "|  V4289  |  None |   81  |ATTEMPTED THEFT (ORIGINAL)\n",
    "|  V4358  |  None |   72  |CASH/WALLET ON PERSON (ORIGINAL)\n",
    "|  V4028  |  None |   50 | EVIDENCE OF FORCIBLE ENTRY\n",
    "'''"
   ]
  },
  {
   "cell_type": "code",
   "execution_count": null,
   "metadata": {
    "collapsed": true
   },
   "outputs": [],
   "source": [
    "'''\n",
    "Multiple columns can be selected by passing a list of column names:\n",
    ">>> sf = SFrame({'id':[1,2,3],'val':['A','B','C'],'val2':[5,6,7]})\n",
    "\n",
    "'''"
   ]
  },
  {
   "cell_type": "code",
   "execution_count": 39,
   "metadata": {
    "collapsed": false
   },
   "outputs": [
    {
     "data": {
      "text/plain": [
       "['V4364',\n",
       " 'V4321',\n",
       " 'V4024',\n",
       " 'V4140B1',\n",
       " 'V4111',\n",
       " 'V4026',\n",
       " 'V4289',\n",
       " 'V4358',\n",
       " 'V4049']"
      ]
     },
     "execution_count": 39,
     "metadata": {},
     "output_type": "execute_result"
    }
   ],
   "source": []
  },
  {
   "cell_type": "code",
   "execution_count": 53,
   "metadata": {
    "collapsed": false
   },
   "outputs": [
    {
     "data": {
      "text/plain": [
       "['V4364',\n",
       " 'V4321',\n",
       " 'V4024',\n",
       " 'V4140B1',\n",
       " 'V4111',\n",
       " 'V4026',\n",
       " 'V4289',\n",
       " 'V4358',\n",
       " 'V4049',\n",
       " 'V4528']"
      ]
     },
     "execution_count": 53,
     "metadata": {},
     "output_type": "execute_result"
    }
   ],
   "source": [
    "\n"
   ]
  },
  {
   "cell_type": "code",
   "execution_count": 55,
   "metadata": {
    "collapsed": false
   },
   "outputs": [
    {
     "data": {
      "text/html": [
       "<div>\n",
       "<table border=\"1\" class=\"dataframe\">\n",
       "  <thead>\n",
       "    <tr style=\"text-align: right;\">\n",
       "      <th></th>\n",
       "      <th>V4364</th>\n",
       "      <th>V4321</th>\n",
       "      <th>V4024</th>\n",
       "      <th>V4140B1</th>\n",
       "      <th>V4111</th>\n",
       "      <th>V4026</th>\n",
       "      <th>V4289</th>\n",
       "      <th>V4358</th>\n",
       "      <th>V4049</th>\n",
       "      <th>V4528</th>\n",
       "    </tr>\n",
       "  </thead>\n",
       "  <tbody>\n",
       "    <tr>\n",
       "      <th>0</th>\n",
       "      <td>475</td>\n",
       "      <td>0</td>\n",
       "      <td>2</td>\n",
       "      <td>9</td>\n",
       "      <td>9</td>\n",
       "      <td>1</td>\n",
       "      <td>9</td>\n",
       "      <td>9</td>\n",
       "      <td>9</td>\n",
       "      <td>31</td>\n",
       "    </tr>\n",
       "    <tr>\n",
       "      <th>1</th>\n",
       "      <td>99999</td>\n",
       "      <td>99999</td>\n",
       "      <td>1</td>\n",
       "      <td>9</td>\n",
       "      <td>9</td>\n",
       "      <td>1</td>\n",
       "      <td>3</td>\n",
       "      <td>9</td>\n",
       "      <td>2</td>\n",
       "      <td>32</td>\n",
       "    </tr>\n",
       "    <tr>\n",
       "      <th>2</th>\n",
       "      <td>99999</td>\n",
       "      <td>99999</td>\n",
       "      <td>12</td>\n",
       "      <td>2</td>\n",
       "      <td>0</td>\n",
       "      <td>9</td>\n",
       "      <td>2</td>\n",
       "      <td>9</td>\n",
       "      <td>2</td>\n",
       "      <td>14</td>\n",
       "    </tr>\n",
       "    <tr>\n",
       "      <th>3</th>\n",
       "      <td>99999</td>\n",
       "      <td>99999</td>\n",
       "      <td>12</td>\n",
       "      <td>2</td>\n",
       "      <td>9</td>\n",
       "      <td>9</td>\n",
       "      <td>2</td>\n",
       "      <td>9</td>\n",
       "      <td>1</td>\n",
       "      <td>12</td>\n",
       "    </tr>\n",
       "    <tr>\n",
       "      <th>4</th>\n",
       "      <td>500</td>\n",
       "      <td>0</td>\n",
       "      <td>1</td>\n",
       "      <td>9</td>\n",
       "      <td>9</td>\n",
       "      <td>9</td>\n",
       "      <td>9</td>\n",
       "      <td>9</td>\n",
       "      <td>9</td>\n",
       "      <td>37</td>\n",
       "    </tr>\n",
       "  </tbody>\n",
       "</table>\n",
       "</div>"
      ],
      "text/plain": [
       "   V4364  V4321  V4024  V4140B1  V4111  V4026  V4289  V4358  V4049  V4528\n",
       "0    475      0      2        9      9      1      9      9      9     31\n",
       "1  99999  99999      1        9      9      1      3      9      2     32\n",
       "2  99999  99999     12        2      0      9      2      9      2     14\n",
       "3  99999  99999     12        2      9      9      2      9      1     12\n",
       "4    500      0      1        9      9      9      9      9      9     37"
      ]
     },
     "execution_count": 55,
     "metadata": {},
     "output_type": "execute_result"
    }
   ],
   "source": [
    "# to try next:\n",
    "# make a slice of df_data with given feature_importance and then make a model with just those features\n",
    "# 4528, type of crime\n",
    "\n",
    "features_small = list(m_boostedT.get_feature_importance()['name'][0:9])\n",
    "\n",
    "predict = 'V4528'\n",
    "# 4528, type of crime\n",
    "features_small.append(predict)\n",
    "\n",
    "df_small = df_data[features_small]\n",
    "df_small.head()"
   ]
  },
  {
   "cell_type": "code",
   "execution_count": 59,
   "metadata": {
    "collapsed": false
   },
   "outputs": [
    {
     "name": "stdout",
     "output_type": "stream",
     "text": [
      "PROGRESS: Creating a validation set from 5 percent of training data. This may take a while.\n",
      "          You can set ``validation_set=None`` to disable validation tracking.\n",
      "\n"
     ]
    },
    {
     "data": {
      "text/html": [
       "<pre>Boosted trees classifier:</pre>"
      ],
      "text/plain": [
       "Boosted trees classifier:"
      ]
     },
     "metadata": {},
     "output_type": "display_data"
    },
    {
     "data": {
      "text/html": [
       "<pre>--------------------------------------------------------</pre>"
      ],
      "text/plain": [
       "--------------------------------------------------------"
      ]
     },
     "metadata": {},
     "output_type": "display_data"
    },
    {
     "data": {
      "text/html": [
       "<pre>Number of examples          : 8758</pre>"
      ],
      "text/plain": [
       "Number of examples          : 8758"
      ]
     },
     "metadata": {},
     "output_type": "display_data"
    },
    {
     "data": {
      "text/html": [
       "<pre>Number of classes           : 40</pre>"
      ],
      "text/plain": [
       "Number of classes           : 40"
      ]
     },
     "metadata": {},
     "output_type": "display_data"
    },
    {
     "data": {
      "text/html": [
       "<pre>Number of feature columns   : 9</pre>"
      ],
      "text/plain": [
       "Number of feature columns   : 9"
      ]
     },
     "metadata": {},
     "output_type": "display_data"
    },
    {
     "data": {
      "text/html": [
       "<pre>Number of unpacked features : 9</pre>"
      ],
      "text/plain": [
       "Number of unpacked features : 9"
      ]
     },
     "metadata": {},
     "output_type": "display_data"
    },
    {
     "data": {
      "text/html": [
       "<pre>+-----------+--------------+-------------------+-------------------+---------------------+---------------------+</pre>"
      ],
      "text/plain": [
       "+-----------+--------------+-------------------+-------------------+---------------------+---------------------+"
      ]
     },
     "metadata": {},
     "output_type": "display_data"
    },
    {
     "data": {
      "text/html": [
       "<pre>| Iteration | Elapsed Time | Training-accuracy | Training-log_loss | Validation-accuracy | Validation-log_loss |</pre>"
      ],
      "text/plain": [
       "| Iteration | Elapsed Time | Training-accuracy | Training-log_loss | Validation-accuracy | Validation-log_loss |"
      ]
     },
     "metadata": {},
     "output_type": "display_data"
    },
    {
     "data": {
      "text/html": [
       "<pre>+-----------+--------------+-------------------+-------------------+---------------------+---------------------+</pre>"
      ],
      "text/plain": [
       "+-----------+--------------+-------------------+-------------------+---------------------+---------------------+"
      ]
     },
     "metadata": {},
     "output_type": "display_data"
    },
    {
     "data": {
      "text/html": [
       "<pre>| 1         | 0.178774     | 0.893126          | 0.599735          | 0.875274            | 0.640991            |</pre>"
      ],
      "text/plain": [
       "| 1         | 0.178774     | 0.893126          | 0.599735          | 0.875274            | 0.640991            |"
      ]
     },
     "metadata": {},
     "output_type": "display_data"
    },
    {
     "data": {
      "text/html": [
       "<pre>| 2         | 0.364140     | 0.895524          | 0.477170          | 0.877462            | 0.530173            |</pre>"
      ],
      "text/plain": [
       "| 2         | 0.364140     | 0.895524          | 0.477170          | 0.877462            | 0.530173            |"
      ]
     },
     "metadata": {},
     "output_type": "display_data"
    },
    {
     "data": {
      "text/html": [
       "<pre>| 3         | 0.548632     | 0.897465          | 0.409615          | 0.877462            | 0.470380            |</pre>"
      ],
      "text/plain": [
       "| 3         | 0.548632     | 0.897465          | 0.409615          | 0.877462            | 0.470380            |"
      ]
     },
     "metadata": {},
     "output_type": "display_data"
    },
    {
     "data": {
      "text/html": [
       "<pre>| 4         | 0.738524     | 0.899635          | 0.361545          | 0.879650            | 0.430901            |</pre>"
      ],
      "text/plain": [
       "| 4         | 0.738524     | 0.899635          | 0.361545          | 0.879650            | 0.430901            |"
      ]
     },
     "metadata": {},
     "output_type": "display_data"
    },
    {
     "data": {
      "text/html": [
       "<pre>| 5         | 0.951605     | 0.905230          | 0.325097          | 0.881838            | 0.400988            |</pre>"
      ],
      "text/plain": [
       "| 5         | 0.951605     | 0.905230          | 0.325097          | 0.881838            | 0.400988            |"
      ]
     },
     "metadata": {},
     "output_type": "display_data"
    },
    {
     "data": {
      "text/html": [
       "<pre>| 6         | 1.165201     | 0.908655          | 0.297639          | 0.886214            | 0.378909            |</pre>"
      ],
      "text/plain": [
       "| 6         | 1.165201     | 0.908655          | 0.297639          | 0.886214            | 0.378909            |"
      ]
     },
     "metadata": {},
     "output_type": "display_data"
    },
    {
     "data": {
      "text/html": [
       "<pre>| 10        | 1.985848     | 0.914250          | 0.234811          | 0.881838            | 0.332863            |</pre>"
      ],
      "text/plain": [
       "| 10        | 1.985848     | 0.914250          | 0.234811          | 0.881838            | 0.332863            |"
      ]
     },
     "metadata": {},
     "output_type": "display_data"
    },
    {
     "data": {
      "text/html": [
       "<pre>+-----------+--------------+-------------------+-------------------+---------------------+---------------------+</pre>"
      ],
      "text/plain": [
       "+-----------+--------------+-------------------+-------------------+---------------------+---------------------+"
      ]
     },
     "metadata": {},
     "output_type": "display_data"
    },
    {
     "name": "stdout",
     "output_type": "stream",
     "text": [
      " -> Finished computing model.\n",
      "\n",
      "<------------------------------------------------------------->\n",
      "Results for V4528 :\n",
      "\n",
      "<------------------------------------------------------------->\n",
      "+---------+-------+-------+\n",
      "|   name  | index | count |\n",
      "+---------+-------+-------+\n",
      "|  V4024  |  None |  2229 |\n",
      "|  V4364  |  None |  1502 |\n",
      "|  V4321  |  None |  791  |\n",
      "|  V4049  |  None |  776  |\n",
      "| V4140B1 |  None |  646  |\n",
      "|  V4026  |  None |  399  |\n",
      "|  V4289  |  None |  296  |\n",
      "|  V4111  |  None |  284  |\n",
      "|  V4358  |  None |  263  |\n",
      "+---------+-------+-------+\n",
      "[9 rows x 3 columns]\n",
      "\n",
      "Class                         : BoostedTreesClassifier\n",
      "\n",
      "Schema\n",
      "------\n",
      "Number of examples            : 8758\n",
      "Number of feature columns     : 9\n",
      "Number of unpacked features   : 9\n",
      "Number of classes             : 40\n",
      "\n",
      "Settings\n",
      "--------\n",
      "Number of trees               : 400\n",
      "Max tree depth                : 10\n",
      "Training time (sec)           : 1.9863\n",
      "Training accuracy             : 0.9142\n",
      "Validation accuracy           : 0.8818\n",
      "Training log_loss             : 0.2348\n",
      "Validation log_loss           : 0.3329\n",
      "\n",
      "None\n"
     ]
    }
   ],
   "source": [
    "m_boosted_small = doOneModel(predict, df_small)\n",
    "printResults(m_boosted_small)"
   ]
  },
  {
   "cell_type": "code",
   "execution_count": null,
   "metadata": {
    "collapsed": true
   },
   "outputs": [],
   "source": []
  },
  {
   "cell_type": "markdown",
   "metadata": {
    "collapsed": false
   },
   "source": [
    "\n",
    "# Things to try later:\n",
    "https://dato.com/products/create/docs/graphlab.toolkits.feature_engineering.html#categorical-features\n",
    "\n",
    "RandomProjection \tProject high-dimensional numeric features into a low-dimensional subspace.\n",
    "\n",
    "OneHotEncoder \tEncode a collection of categorical features using a 1-of-K encoding scheme.\n",
    "CountThresholder \tMap infrequent categorical variables to a new/separate category.\n",
    "CategoricalImputer \tThe purpose of this imputer is to fill missing values (None) in data sets\n",
    " that have categorical data.\n",
    "\n"
   ]
  }
 ],
 "metadata": {
  "kernelspec": {
   "display_name": "Python 2",
   "language": "python",
   "name": "python2"
  },
  "language_info": {
   "codemirror_mode": {
    "name": "ipython",
    "version": 2
   },
   "file_extension": ".py",
   "mimetype": "text/x-python",
   "name": "python",
   "nbconvert_exporter": "python",
   "pygments_lexer": "ipython2",
   "version": "2.7.11"
  }
 },
 "nbformat": 4,
 "nbformat_minor": 0
}
