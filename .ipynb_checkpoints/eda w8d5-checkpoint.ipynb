{
 "cells": [
  {
   "cell_type": "code",
   "execution_count": 2,
   "metadata": {
    "collapsed": true
   },
   "outputs": [],
   "source": [
    "import pandas as pd\n",
    "import numpy as np\n",
    "import graphlab as gl\n",
    "# pip install --upgrade \n",
    "# --no-cache-dir https://get.dato.com/GraphLab-Create/1.8.5/justin@thezecks.com\n",
    "# /9378-F674-129B-F6B9-F178-B959-E07A-3D81/GraphLab-Create-License.tar.gz\n"
   ]
  },
  {
   "cell_type": "markdown",
   "metadata": {
    "collapsed": true
   },
   "source": [
    "''' File 5: all of the above,\n",
    "tldr: the above table is all previous tables joined on year and quarter, household_id, and person_id\n",
    "\n",
    "The incident-level extract file is not the same as the incident record-type file. The incident-level extract file is a file created by prepending\n",
    "household and person variables to incident records using the YEARQ (YEAR AND QUARTER OF INTERVIEW), IDHH (NCVS ID FOR\n",
    "HOUSEHOLDS), and IDPER (NCVS ID FOR PERSONS) variables as match keys. For data-year formats, this file has been \"bounded\"\n",
    "to contain incidents occurring within the specific calendar year, regardless of when the interview was conducted. Under the collection-year\n",
    "format, the incident-level extract file is not \"bounded\" based on when the incidents occurred; rather, it contains incidents reported in 2012,\n",
    "regardless of when they occurred\n",
    "'''"
   ]
  },
  {
   "cell_type": "code",
   "execution_count": null,
   "metadata": {
    "collapsed": false
   },
   "outputs": [],
   "source": []
  },
  {
   "cell_type": "code",
   "execution_count": 35,
   "metadata": {
    "collapsed": false
   },
   "outputs": [],
   "source": [
    "df_data = pd.read_table('data/5-Data.tsv')\n"
   ]
  },
  {
   "cell_type": "code",
   "execution_count": 5,
   "metadata": {
    "collapsed": false
   },
   "outputs": [
    {
     "data": {
      "text/html": [
       "<div>\n",
       "<table border=\"1\" class=\"dataframe\">\n",
       "  <thead>\n",
       "    <tr style=\"text-align: right;\">\n",
       "      <th></th>\n",
       "      <th>V2001</th>\n",
       "      <th>YEARQ</th>\n",
       "      <th>IDHH</th>\n",
       "      <th>IDPER</th>\n",
       "      <th>V2002</th>\n",
       "      <th>V2003</th>\n",
       "      <th>V2004</th>\n",
       "      <th>V2005</th>\n",
       "      <th>V2006</th>\n",
       "      <th>V2008</th>\n",
       "      <th>...</th>\n",
       "      <th>VICREPWGT151</th>\n",
       "      <th>VICREPWGT152</th>\n",
       "      <th>VICREPWGT153</th>\n",
       "      <th>VICREPWGT154</th>\n",
       "      <th>VICREPWGT155</th>\n",
       "      <th>VICREPWGT156</th>\n",
       "      <th>VICREPWGT157</th>\n",
       "      <th>VICREPWGT158</th>\n",
       "      <th>VICREPWGT159</th>\n",
       "      <th>VICREPWGT160</th>\n",
       "    </tr>\n",
       "  </thead>\n",
       "  <tbody>\n",
       "    <tr>\n",
       "      <th>0</th>\n",
       "      <td>2</td>\n",
       "      <td>2012.1</td>\n",
       "      <td>2501051210759582293728435</td>\n",
       "      <td>250105121075958229372843501</td>\n",
       "      <td>24034</td>\n",
       "      <td>121</td>\n",
       "      <td>25</td>\n",
       "      <td>01051210759582293728</td>\n",
       "      <td>4</td>\n",
       "      <td>35</td>\n",
       "      <td>...</td>\n",
       "      <td>808.246043</td>\n",
       "      <td>4434.171264</td>\n",
       "      <td>2713.832418</td>\n",
       "      <td>4431.329835</td>\n",
       "      <td>2659.149306</td>\n",
       "      <td>2651.307151</td>\n",
       "      <td>4738.553773</td>\n",
       "      <td>2773.348911</td>\n",
       "      <td>4323.180896</td>\n",
       "      <td>844.934676</td>\n",
       "    </tr>\n",
       "    <tr>\n",
       "      <th>1</th>\n",
       "      <td>2</td>\n",
       "      <td>2012.1</td>\n",
       "      <td>2501051210759582293728435</td>\n",
       "      <td>250105121075958229372843501</td>\n",
       "      <td>24034</td>\n",
       "      <td>121</td>\n",
       "      <td>25</td>\n",
       "      <td>01051210759582293728</td>\n",
       "      <td>4</td>\n",
       "      <td>35</td>\n",
       "      <td>...</td>\n",
       "      <td>808.246043</td>\n",
       "      <td>4434.171264</td>\n",
       "      <td>2713.832418</td>\n",
       "      <td>4431.329835</td>\n",
       "      <td>2659.149306</td>\n",
       "      <td>2651.307151</td>\n",
       "      <td>4738.553773</td>\n",
       "      <td>2773.348911</td>\n",
       "      <td>4323.180896</td>\n",
       "      <td>844.934676</td>\n",
       "    </tr>\n",
       "    <tr>\n",
       "      <th>2</th>\n",
       "      <td>2</td>\n",
       "      <td>2012.1</td>\n",
       "      <td>2501051210759582293728435</td>\n",
       "      <td>250105121075958229372843501</td>\n",
       "      <td>24034</td>\n",
       "      <td>121</td>\n",
       "      <td>25</td>\n",
       "      <td>01051210759582293728</td>\n",
       "      <td>4</td>\n",
       "      <td>35</td>\n",
       "      <td>...</td>\n",
       "      <td>861.844113</td>\n",
       "      <td>4727.533125</td>\n",
       "      <td>2908.610257</td>\n",
       "      <td>4739.329797</td>\n",
       "      <td>2836.045781</td>\n",
       "      <td>2836.421004</td>\n",
       "      <td>5073.342420</td>\n",
       "      <td>2944.663118</td>\n",
       "      <td>4647.547199</td>\n",
       "      <td>902.387830</td>\n",
       "    </tr>\n",
       "    <tr>\n",
       "      <th>3</th>\n",
       "      <td>2</td>\n",
       "      <td>2012.1</td>\n",
       "      <td>2501051210759582293728435</td>\n",
       "      <td>250105121075958229372843501</td>\n",
       "      <td>24034</td>\n",
       "      <td>121</td>\n",
       "      <td>25</td>\n",
       "      <td>01051210759582293728</td>\n",
       "      <td>4</td>\n",
       "      <td>35</td>\n",
       "      <td>...</td>\n",
       "      <td>861.844113</td>\n",
       "      <td>4727.533125</td>\n",
       "      <td>2908.610257</td>\n",
       "      <td>4739.329797</td>\n",
       "      <td>2836.045781</td>\n",
       "      <td>2836.421004</td>\n",
       "      <td>5073.342420</td>\n",
       "      <td>2944.663118</td>\n",
       "      <td>4647.547199</td>\n",
       "      <td>902.387830</td>\n",
       "    </tr>\n",
       "    <tr>\n",
       "      <th>4</th>\n",
       "      <td>2</td>\n",
       "      <td>2012.1</td>\n",
       "      <td>2501286218428920608853213</td>\n",
       "      <td>250128621842892060885321301</td>\n",
       "      <td>26233</td>\n",
       "      <td>121</td>\n",
       "      <td>25</td>\n",
       "      <td>01286218428920608853</td>\n",
       "      <td>2</td>\n",
       "      <td>13</td>\n",
       "      <td>...</td>\n",
       "      <td>1899.977652</td>\n",
       "      <td>4218.009488</td>\n",
       "      <td>3351.802607</td>\n",
       "      <td>4782.493661</td>\n",
       "      <td>3090.280119</td>\n",
       "      <td>2076.777830</td>\n",
       "      <td>4058.076475</td>\n",
       "      <td>1956.811167</td>\n",
       "      <td>3694.022398</td>\n",
       "      <td>1971.874188</td>\n",
       "    </tr>\n",
       "  </tbody>\n",
       "</table>\n",
       "<p>5 rows × 1145 columns</p>\n",
       "</div>"
      ],
      "text/plain": [
       "   V2001   YEARQ                       IDHH                        IDPER  \\\n",
       "0      2  2012.1  2501051210759582293728435  250105121075958229372843501   \n",
       "1      2  2012.1  2501051210759582293728435  250105121075958229372843501   \n",
       "2      2  2012.1  2501051210759582293728435  250105121075958229372843501   \n",
       "3      2  2012.1  2501051210759582293728435  250105121075958229372843501   \n",
       "4      2  2012.1  2501286218428920608853213  250128621842892060885321301   \n",
       "\n",
       "   V2002  V2003  V2004                 V2005  V2006  V2008      ...       \\\n",
       "0  24034    121     25  01051210759582293728      4     35      ...        \n",
       "1  24034    121     25  01051210759582293728      4     35      ...        \n",
       "2  24034    121     25  01051210759582293728      4     35      ...        \n",
       "3  24034    121     25  01051210759582293728      4     35      ...        \n",
       "4  26233    121     25  01286218428920608853      2     13      ...        \n",
       "\n",
       "   VICREPWGT151  VICREPWGT152  VICREPWGT153  VICREPWGT154  VICREPWGT155  \\\n",
       "0    808.246043   4434.171264   2713.832418   4431.329835   2659.149306   \n",
       "1    808.246043   4434.171264   2713.832418   4431.329835   2659.149306   \n",
       "2    861.844113   4727.533125   2908.610257   4739.329797   2836.045781   \n",
       "3    861.844113   4727.533125   2908.610257   4739.329797   2836.045781   \n",
       "4   1899.977652   4218.009488   3351.802607   4782.493661   3090.280119   \n",
       "\n",
       "   VICREPWGT156  VICREPWGT157  VICREPWGT158  VICREPWGT159  VICREPWGT160  \n",
       "0   2651.307151   4738.553773   2773.348911   4323.180896    844.934676  \n",
       "1   2651.307151   4738.553773   2773.348911   4323.180896    844.934676  \n",
       "2   2836.421004   5073.342420   2944.663118   4647.547199    902.387830  \n",
       "3   2836.421004   5073.342420   2944.663118   4647.547199    902.387830  \n",
       "4   2076.777830   4058.076475   1956.811167   3694.022398   1971.874188  \n",
       "\n",
       "[5 rows x 1145 columns]"
      ]
     },
     "execution_count": 5,
     "metadata": {},
     "output_type": "execute_result"
    }
   ],
   "source": [
    "# dfall.info()\n",
    "# 9215 rows, 1145 collumns\n",
    "\n",
    "df_data.head()"
   ]
  },
  {
   "cell_type": "code",
   "execution_count": null,
   "metadata": {
    "collapsed": false
   },
   "outputs": [],
   "source": []
  },
  {
   "cell_type": "code",
   "execution_count": 10,
   "metadata": {
    "collapsed": false
   },
   "outputs": [],
   "source": [
    "def get_summary(col, targ):\n",
    "    \n",
    "    cnts = col.value_counts(normalize=True)\n",
    "    num_unique = len(cnts)\n",
    "    top_freq = cnts.values[0]\n",
    "    top_item = cnts.index[0]\n",
    "    fraction_missing = col.isnull().mean()\n",
    "    first_few = ', '.join(list(col.unique()\n",
    "                               .astype(str)[:max(num_unique, 3)]))\n",
    "    \n",
    "    #Get target frequency spread\n",
    "    #print col, targ\n",
    "    temp = pd.concat([col, targ],axis=1)\n",
    "    grouped = temp.groupby(col.name)['target'].mean()\n",
    "    freq_range = grouped.max() - grouped.min()\n",
    "    \n",
    "    return pd.Series(\n",
    "        {'NumUnique' : num_unique,\n",
    "         'Top Freq' : top_freq,\n",
    "         'Top Item' : top_item,\n",
    "         'Fraction Missing' : fraction_missing,\n",
    "         'Examples' : first_few,\n",
    "         'Freq Range' : freq_range\n",
    "        })\n",
    "\n",
    "df_cat = df_data\n",
    "# Summarise each categorical variable\n",
    "#df_cat.apply(lambda col: get_summary(col, df_data.columns)).T   "
   ]
  },
  {
   "cell_type": "code",
   "execution_count": 36,
   "metadata": {
    "collapsed": false
   },
   "outputs": [],
   "source": [
    "\n",
    "\n",
    "#df_data.V4528.value_counts(dropna=False)"
   ]
  },
  {
   "cell_type": "code",
   "execution_count": 31,
   "metadata": {
    "collapsed": true
   },
   "outputs": [],
   "source": [
    "def makeNmodels(predict_these):\n",
    "    \n",
    "    scores = []\n",
    "    \n",
    "    for curCol in predict_these:\n",
    "        score = doOneModel(curCol)\n",
    "        \n",
    "        col_with_score = (curCol, score)\n",
    "        \n",
    "        scores.apend(col_with_score)\n",
    "    \n",
    "    return scores\n",
    "        \n",
    "    "
   ]
  },
  {
   "cell_type": "code",
   "execution_count": 37,
   "metadata": {
    "collapsed": true
   },
   "outputs": [],
   "source": [
    "def delFeatures(features):\n",
    "    for cur_feat in features:\n",
    "        del df_data[cur_feat]"
   ]
  },
  {
   "cell_type": "code",
   "execution_count": 38,
   "metadata": {
    "collapsed": false
   },
   "outputs": [],
   "source": [
    "low_var_features = ['V2001', 'V2009', 'V2027', 'V2028', 'V2029', 'V2030', 'V2031', 'V2109', \n",
    "                    'V2110', 'V2112', 'V2114', 'V2115', 'V2123', 'V2131', 'V2142', 'V3001', \n",
    "                    'V3027', 'V3051', 'V3057', 'V3060', 'V3069', 'V3082', 'V4001', 'V4319', \n",
    "                    'V4320']\n",
    "                        #'V4528\n",
    "overpowered_features = ['V4529', 'V4112', 'V4060']\n",
    "\n",
    "'''\n",
    "V4528    TYPE OF CRIME CODE (OLD, NCS)\n",
    "V4529 - TYPE OF CRIME CODE (NEW, NCVS)\n",
    "V4112 -    INJURIES: RAPE INJURIES  \n",
    "V4060 - OFFENDER HIT OR ATTACK (ALLOCATED)\n",
    "'''\n",
    "delFeatures(low_var_features)\n",
    "delFeatures(overpowered_features)\n"
   ]
  },
  {
   "cell_type": "code",
   "execution_count": 43,
   "metadata": {
    "collapsed": false
   },
   "outputs": [],
   "source": [
    "def doOneModel(predict):\n",
    "    \n",
    "    sf_data = gl.SFrame(df_data)\n",
    "    \n",
    "    # graphlab.boosted_trees_classifier.create(dataset, target, features=None, \n",
    "    # max_iterations=10, validation_set='auto', class_weights=None, max_depth=6, \n",
    "    # step_size=0.3, min_loss_reduction=0.0, min_child_weight=0.1, row_subsample=1.0, \n",
    "    # column_subsample=1.0, verbose=True, random_seed=None, metric='auto', **kwargs)\n",
    "    \n",
    "    model = gl.boosted_trees_classifier.create(sf_data, predict, features=None, \n",
    "            max_iterations=10, validation_set='auto', class_weights=None, max_depth=10, \n",
    "            step_size=0.3, min_loss_reduction=0.0, min_child_weight=0.1, row_subsample=1.0, \n",
    "            column_subsample=1.0, verbose=True, random_seed=42, metric='auto')\n",
    "    \n",
    "    predictions = model.predict(sf_data)\n",
    "    results = model.evaluate(sf_data)\n",
    "    print \" -> Finished computing model.\"\n",
    "    print \"\\n<------------------------------------------------------------->\"\n",
    "    print \"Results for \" + str(predict) + \" :\\n\"\n",
    "    print \"<------------------------------------------------------------->\"\n",
    "    return model\n",
    "    \n",
    "    "
   ]
  },
  {
   "cell_type": "code",
   "execution_count": 41,
   "metadata": {
    "collapsed": true
   },
   "outputs": [],
   "source": [
    "def printResults(model):\n",
    "    \n",
    "    print model.get_feature_importance()\n",
    "    \n",
    "    print model.summary()"
   ]
  },
  {
   "cell_type": "code",
   "execution_count": 44,
   "metadata": {
    "collapsed": false
   },
   "outputs": [
    {
     "name": "stdout",
     "output_type": "stream",
     "text": [
      "PROGRESS: Creating a validation set from 5 percent of training data. This may take a while.\n",
      "          You can set ``validation_set=None`` to disable validation tracking.\n",
      "\n"
     ]
    },
    {
     "data": {
      "text/html": [
       "<pre>WARNING: The number of feature dimensions in this problem is very large in comparison with the number of examples. Unless an appropriate regularization value is set, this model may not provide accurate predictions for a validation/test set.</pre>"
      ],
      "text/plain": [
       "WARNING: The number of feature dimensions in this problem is very large in comparison with the number of examples. Unless an appropriate regularization value is set, this model may not provide accurate predictions for a validation/test set."
      ]
     },
     "metadata": {},
     "output_type": "display_data"
    },
    {
     "data": {
      "text/html": [
       "<pre>Boosted trees classifier:</pre>"
      ],
      "text/plain": [
       "Boosted trees classifier:"
      ]
     },
     "metadata": {},
     "output_type": "display_data"
    },
    {
     "data": {
      "text/html": [
       "<pre>--------------------------------------------------------</pre>"
      ],
      "text/plain": [
       "--------------------------------------------------------"
      ]
     },
     "metadata": {},
     "output_type": "display_data"
    },
    {
     "data": {
      "text/html": [
       "<pre>Number of examples          : 8786</pre>"
      ],
      "text/plain": [
       "Number of examples          : 8786"
      ]
     },
     "metadata": {},
     "output_type": "display_data"
    },
    {
     "data": {
      "text/html": [
       "<pre>Number of classes           : 4</pre>"
      ],
      "text/plain": [
       "Number of classes           : 4"
      ]
     },
     "metadata": {},
     "output_type": "display_data"
    },
    {
     "data": {
      "text/html": [
       "<pre>Number of feature columns   : 1116</pre>"
      ],
      "text/plain": [
       "Number of feature columns   : 1116"
      ]
     },
     "metadata": {},
     "output_type": "display_data"
    },
    {
     "data": {
      "text/html": [
       "<pre>Number of unpacked features : 1116</pre>"
      ],
      "text/plain": [
       "Number of unpacked features : 1116"
      ]
     },
     "metadata": {},
     "output_type": "display_data"
    },
    {
     "data": {
      "text/html": [
       "<pre>+-----------+--------------+-------------------+-------------------+---------------------+---------------------+</pre>"
      ],
      "text/plain": [
       "+-----------+--------------+-------------------+-------------------+---------------------+---------------------+"
      ]
     },
     "metadata": {},
     "output_type": "display_data"
    },
    {
     "data": {
      "text/html": [
       "<pre>| Iteration | Elapsed Time | Training-accuracy | Training-log_loss | Validation-accuracy | Validation-log_loss |</pre>"
      ],
      "text/plain": [
       "| Iteration | Elapsed Time | Training-accuracy | Training-log_loss | Validation-accuracy | Validation-log_loss |"
      ]
     },
     "metadata": {},
     "output_type": "display_data"
    },
    {
     "data": {
      "text/html": [
       "<pre>+-----------+--------------+-------------------+-------------------+---------------------+---------------------+</pre>"
      ],
      "text/plain": [
       "+-----------+--------------+-------------------+-------------------+---------------------+---------------------+"
      ]
     },
     "metadata": {},
     "output_type": "display_data"
    },
    {
     "data": {
      "text/html": [
       "<pre>| 1         | 0.642569     | 1.000000          | 0.854237          | 1.000000            | 0.854283            |</pre>"
      ],
      "text/plain": [
       "| 1         | 0.642569     | 1.000000          | 0.854237          | 1.000000            | 0.854283            |"
      ]
     },
     "metadata": {},
     "output_type": "display_data"
    },
    {
     "data": {
      "text/html": [
       "<pre>| 2         | 1.277518     | 1.000000          | 0.581428          | 1.000000            | 0.581498            |</pre>"
      ],
      "text/plain": [
       "| 2         | 1.277518     | 1.000000          | 0.581428          | 1.000000            | 0.581498            |"
      ]
     },
     "metadata": {},
     "output_type": "display_data"
    },
    {
     "data": {
      "text/html": [
       "<pre>| 3         | 2.108061     | 1.000000          | 0.409505          | 1.000000            | 0.409585            |</pre>"
      ],
      "text/plain": [
       "| 3         | 2.108061     | 1.000000          | 0.409505          | 1.000000            | 0.409585            |"
      ]
     },
     "metadata": {},
     "output_type": "display_data"
    },
    {
     "data": {
      "text/html": [
       "<pre>| 4         | 3.019597     | 1.000000          | 0.293553          | 1.000000            | 0.293636            |</pre>"
      ],
      "text/plain": [
       "| 4         | 3.019597     | 1.000000          | 0.293553          | 1.000000            | 0.293636            |"
      ]
     },
     "metadata": {},
     "output_type": "display_data"
    },
    {
     "data": {
      "text/html": [
       "<pre>| 5         | 3.901741     | 1.000000          | 0.212676          | 1.000000            | 0.212756            |</pre>"
      ],
      "text/plain": [
       "| 5         | 3.901741     | 1.000000          | 0.212676          | 1.000000            | 0.212756            |"
      ]
     },
     "metadata": {},
     "output_type": "display_data"
    },
    {
     "data": {
      "text/html": [
       "<pre>| 6         | 5.065287     | 1.000000          | 0.155150          | 1.000000            | 0.155225            |</pre>"
      ],
      "text/plain": [
       "| 6         | 5.065287     | 1.000000          | 0.155150          | 1.000000            | 0.155225            |"
      ]
     },
     "metadata": {},
     "output_type": "display_data"
    },
    {
     "data": {
      "text/html": [
       "<pre>| 10        | 8.206563     | 1.000000          | 0.045568          | 1.000000            | 0.045606            |</pre>"
      ],
      "text/plain": [
       "| 10        | 8.206563     | 1.000000          | 0.045568          | 1.000000            | 0.045606            |"
      ]
     },
     "metadata": {},
     "output_type": "display_data"
    },
    {
     "data": {
      "text/html": [
       "<pre>+-----------+--------------+-------------------+-------------------+---------------------+---------------------+</pre>"
      ],
      "text/plain": [
       "+-----------+--------------+-------------------+-------------------+---------------------+---------------------+"
      ]
     },
     "metadata": {},
     "output_type": "display_data"
    },
    {
     "name": "stdout",
     "output_type": "stream",
     "text": [
      "\n",
      "<------------------------------------------------------------->\n",
      "Results for V4028 :\n",
      "\n",
      "<------------------------------------------------------------->\n",
      "+-------+----------------------+-------+\n",
      "|  name |        index         | count |\n",
      "+-------+----------------------+-------+\n",
      "| V4026 |         None         |   30  |\n",
      "| V4040 |         None         |   20  |\n",
      "| V4027 |         None         |   19  |\n",
      "| V4029 |         None         |   10  |\n",
      "| V4528 |         None         |   10  |\n",
      "| V4043 |         None         |   9   |\n",
      "| V4022 |         None         |   1   |\n",
      "| V3005 | 88124190309120292953 |   0   |\n",
      "| V3005 | 88237487453082292828 |   0   |\n",
      "| V3005 | 88127458509188292904 |   0   |\n",
      "+-------+----------------------+-------+\n",
      "[33383 rows x 3 columns]\n",
      "Note: Only the head of the SFrame is printed.\n",
      "You can use print_rows(num_rows=m, num_columns=n) to print more rows and columns.\n",
      "Class                         : BoostedTreesClassifier\n",
      "\n",
      "Schema\n",
      "------\n",
      "Number of examples            : 8786\n",
      "Number of feature columns     : 1116\n",
      "Number of unpacked features   : 1116\n",
      "Number of classes             : 4\n",
      "\n",
      "Settings\n",
      "--------\n",
      "Number of trees               : 40\n",
      "Max tree depth                : 10\n",
      "Training time (sec)           : 8.2071\n",
      "Training accuracy             : 1.0\n",
      "Validation accuracy           : 1.0\n",
      "Training log_loss             : 0.0456\n",
      "Validation log_loss           : 0.0456\n",
      "\n",
      "None\n"
     ]
    }
   ],
   "source": [
    "predict = 'V4028'\n",
    "\n",
    "m_boostedT = doOneModel(predict)\n",
    "printResults(m_boostedT)"
   ]
  },
  {
   "cell_type": "code",
   "execution_count": null,
   "metadata": {
    "collapsed": true
   },
   "outputs": [],
   "source": [
    "'''\n",
    "-------------------------------------------------------------\n",
    "+---------+-------+-------+\n",
    "|   name  | index | count |\n",
    "+---------+-------+-------+\n",
    "|  V4364  |  None |  317  |V4364 - VALUE OF PROPERTY TAKEN\n",
    "|  V4321  |  None |  245  |VALUE OF CASH TAKEN\n",
    "|  V4024  |  None |  229  |WHERE DID INCIDENT HAPPEN\n",
    "Value\n",
    "Label\n",
    "In respondent's home or lodging\n",
    "01 In own dwelling, own attached garage, or enclosed porch (Include illegal entry or attempted illegal entry of same)\n",
    "02 In detached building on own property, such as a detached garage,..\n",
    "...\n",
    "\n",
    "Commercial places\n",
    "12 Inside restaurant, bar, nightclub\n",
    "13 Inside other commercial building such as store, bank, gas station\n",
    "...\n",
    "\n",
    "Parking lots/garages\n",
    "15 Commercial parking lot/garage\n",
    "16 Noncommercial parking lot/garage\n",
    "17 Apartment/townhouse parking lot/garage School\n",
    "18 Inside school building\n",
    "19 On school property (school parking area, play area, school bus, etc.)\n",
    "...\n",
    "23 Other\n",
    "98 Residue\n",
    "99 (M) Out of universe\n",
    "\n",
    "| V4140B1 |  None |  142  |VICTIM OF CRIME LEAD TO PROBLEMS JOB, SCHOOLWORK, BOSS, COWORKERS, OR PEERS\n",
    "|  V4111  |  None |  101  |INJURIES: NONE\n",
    "|  V4026  |  None |   99  |DID OFFENDER GET INSIDE\n",
    "|  V4049  |  None |   82  |DID OFFENDER HAVE A WEAPON\n",
    "|  V4289  |  None |   81  |ATTEMPTED THEFT (ORIGINAL)\n",
    "|  V4358  |  None |   72  |CASH/WALLET ON PERSON (ORIGINAL)\n",
    "|  V4028  |  None |   50 | EVIDENCE OF FORCIBLE ENTRY\n",
    "'''"
   ]
  },
  {
   "cell_type": "markdown",
   "metadata": {
    "collapsed": false
   },
   "source": [
    "\n",
    "# Things to try later:\n",
    "https://dato.com/products/create/docs/graphlab.toolkits.feature_engineering.html#categorical-features\n",
    "\n",
    "RandomProjection \tProject high-dimensional numeric features into a low-dimensional subspace.\n",
    "\n",
    "OneHotEncoder \tEncode a collection of categorical features using a 1-of-K encoding scheme.\n",
    "CountThresholder \tMap infrequent categorical variables to a new/separate category.\n",
    "CategoricalImputer \tThe purpose of this imputer is to fill missing values (None) in data sets\n",
    " that have categorical data.\n",
    "\n"
   ]
  }
 ],
 "metadata": {
  "kernelspec": {
   "display_name": "Python 2",
   "language": "python",
   "name": "python2"
  },
  "language_info": {
   "codemirror_mode": {
    "name": "ipython",
    "version": 2
   },
   "file_extension": ".py",
   "mimetype": "text/x-python",
   "name": "python",
   "nbconvert_exporter": "python",
   "pygments_lexer": "ipython2",
   "version": "2.7.11"
  }
 },
 "nbformat": 4,
 "nbformat_minor": 0
}
